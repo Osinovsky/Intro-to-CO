{
 "metadata": {
  "language_info": {
   "codemirror_mode": {
    "name": "ipython",
    "version": 3
   },
   "file_extension": ".py",
   "mimetype": "text/x-python",
   "name": "python",
   "nbconvert_exporter": "python",
   "pygments_lexer": "ipython3",
   "version": "3.8.8"
  },
  "orig_nbformat": 2,
  "kernelspec": {
   "name": "python388jvsc74a57bd0d38038c7added91721d95c39ef774c02d546c90bab4d37f163cef65a92614d13",
   "display_name": "Python 3.8.8 64-bit ('Gurobi': conda)"
  },
  "metadata": {
   "interpreter": {
    "hash": "d38038c7added91721d95c39ef774c02d546c90bab4d37f163cef65a92614d13"
   }
  }
 },
 "nbformat": 4,
 "nbformat_minor": 2,
 "cells": [
  {
   "source": [
    "# MIP\n",
    "import gurobipy as gp\n",
    "from gurobipy import GRB\n",
    "with gp.Env(empty=True) as env:\n",
    "    env.setParam('LogToConsole', 0)\n",
    "    env.start()\n",
    "    with gp.Model(env=env) as m:\n",
    "        # Create a new model\n",
    "        # m = gp.Model(\"mip1\")\n",
    "\n",
    "        # Create variables\n",
    "        x = m.addVar(vtype=GRB.BINARY, name=\"x\")\n",
    "        y = m.addVar(vtype=GRB.BINARY, name=\"y\")\n",
    "        z = m.addVar(vtype=GRB.BINARY, name=\"z\")\n",
    "\n",
    "        # Set objective\n",
    "        m.setObjective(x + y + 2 * z, GRB.MAXIMIZE)\n",
    "        # Add constraint: x + 2 y + 3 z <= 4\n",
    "        m.addConstr(x + 2 * y + 3 * z <= 4, \"c0\")\n",
    "        # Add constraint: x + y >= 1\n",
    "        m.addConstr(x + y >= 1, \"c1\")\n",
    "        # Optimize model\n",
    "        m.optimize()\n",
    "\n",
    "        for v in m.getVars():\n",
    "            print('%s %g' % (v.varName, v.x))\n",
    "        print('Obj: %g' % m.objVal)\n",
    "\n",
    "    # except gp.GurobiError as e:\n",
    "    #     print('Error code ' + str(e.errno) + ': ' + str(e))\n",
    "    # except AttributeError:\n",
    "    #     print('Encountered an attribute error')"
   ],
   "cell_type": "code",
   "metadata": {},
   "execution_count": 5,
   "outputs": [
    {
     "output_type": "stream",
     "name": "stdout",
     "text": [
      "Changed value of parameter LogToConsole to 0\n   Prev: 1  Min: 0  Max: 1  Default: 1\nx 1\ny 0\nz 1\nObj: 3\n"
     ]
    }
   ]
  },
  {
   "cell_type": "code",
   "execution_count": null,
   "metadata": {},
   "outputs": [],
   "source": []
  }
 ]
}